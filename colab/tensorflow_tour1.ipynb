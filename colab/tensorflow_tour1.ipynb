{
  "nbformat": 4,
  "nbformat_minor": 0,
  "metadata": {
    "colab": {
      "provenance": []
    },
    "kernelspec": {
      "name": "python3",
      "display_name": "Python 3"
    },
    "language_info": {
      "name": "python"
    }
  },
  "cells": [
    {
      "cell_type": "markdown",
      "source": [
        "tensorflow get version"
      ],
      "metadata": {
        "id": "ks6vRF6KfGYj"
      }
    },
    {
      "cell_type": "code",
      "execution_count": null,
      "metadata": {
        "id": "JGcuxSIhe_Wa"
      },
      "outputs": [],
      "source": [
        "import tensorflow as tf\n",
        "print(\"TensorFlow version:\", tf.__version__)"
      ]
    },
    {
      "cell_type": "markdown",
      "source": [
        "load datasets"
      ],
      "metadata": {
        "id": "FjJqEeTfgQUU"
      }
    },
    {
      "cell_type": "code",
      "source": [
        "mnist = tf.keras.datasets.mnist\n",
        "print(mnist) # <module 'keras.api._v2.keras.datasets.mnist' from '/usr/local/lib/python3.10/dist-packages/keras/api/_v2/keras/datasets/mnist/__init__.py'>\n",
        "print('load data')\n",
        "print(mnist.load_data())\n",
        "(x_train, y_train), (x_test, y_test) = mnist.load_data()\n",
        "print('=========== print x_train and y_train ===========')\n",
        "print(x_train)\n",
        "print(y_train)\n",
        "print('=========== print x_train and x_test ===========')\n",
        "x_train, x_test = x_train / 255.0, x_test / 255.0\n",
        "print(x_train)\n",
        "print(x_test)"
      ],
      "metadata": {
        "id": "74VMI0WRgE4O"
      },
      "execution_count": null,
      "outputs": []
    },
    {
      "cell_type": "markdown",
      "source": [
        "build keras Sequantial model"
      ],
      "metadata": {
        "id": "1Mov1rmLgrg3"
      }
    },
    {
      "cell_type": "code",
      "source": [
        "model = tf.keras.models.Sequential([\n",
        "  tf.keras.layers.Flatten(input_shape=(28, 28)),\n",
        "  tf.keras.layers.Dense(128, activation='relu'),\n",
        "  tf.keras.layers.Dropout(0.2),\n",
        "  tf.keras.layers.Dense(10)\n",
        "])"
      ],
      "metadata": {
        "id": "jb1WdZrIgvn_"
      },
      "execution_count": 3,
      "outputs": []
    },
    {
      "cell_type": "markdown",
      "source": [
        "initialize predictions"
      ],
      "metadata": {
        "id": "dshrviOHi3Wf"
      }
    },
    {
      "cell_type": "code",
      "source": [
        "predictions = model(x_train[:1]).numpy()\n",
        "predictions"
      ],
      "metadata": {
        "colab": {
          "base_uri": "https://localhost:8080/"
        },
        "id": "Wgsy7LIhi2Tp",
        "outputId": "53aa7e85-9592-449e-8ad3-e9a27f3da069"
      },
      "execution_count": 16,
      "outputs": [
        {
          "output_type": "execute_result",
          "data": {
            "text/plain": [
              "array([[ 0.6260885 , -0.63557625, -0.377968  ,  0.14907221, -0.21863906,\n",
              "         0.161811  ,  0.71432126,  0.21249594,  0.25043663, -0.1515852 ]],\n",
              "      dtype=float32)"
            ]
          },
          "metadata": {},
          "execution_count": 16
        }
      ]
    },
    {
      "cell_type": "markdown",
      "source": [
        "The tf.nn.softmax function converts these logits to probabilities for each class:\n"
      ],
      "metadata": {
        "id": "7kZ0Kxs1jbm7"
      }
    },
    {
      "cell_type": "code",
      "source": [
        "tf.nn.softmax(predictions).numpy()"
      ],
      "metadata": {
        "colab": {
          "base_uri": "https://localhost:8080/"
        },
        "id": "eIUrTmOijMC6",
        "outputId": "632b3185-ee55-459b-d1a8-80477a845639"
      },
      "execution_count": 15,
      "outputs": [
        {
          "output_type": "execute_result",
          "data": {
            "text/plain": [
              "array([[0.16055755, 0.04546704, 0.05882671, 0.09964723, 0.06898747,\n",
              "        0.10092473, 0.17536776, 0.10617194, 0.11027758, 0.07377197]],\n",
              "      dtype=float32)"
            ]
          },
          "metadata": {},
          "execution_count": 15
        }
      ]
    }
  ]
}